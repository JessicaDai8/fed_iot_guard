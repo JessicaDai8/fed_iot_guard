{
 "cells": [
  {
   "cell_type": "markdown",
   "metadata": {},
   "source": [
    "### Imports"
   ]
  },
  {
   "cell_type": "code",
   "execution_count": 1,
   "metadata": {},
   "outputs": [],
   "source": [
    "import sys\n",
    "import json\n",
    "import matplotlib.pyplot as plt\n",
    "import numpy as np"
   ]
  },
  {
   "cell_type": "markdown",
   "metadata": {},
   "source": [
    "### Local imports"
   ]
  },
  {
   "cell_type": "code",
   "execution_count": 2,
   "metadata": {},
   "outputs": [],
   "source": [
    "sys.path.insert(0,'src/')\n",
    "from src.metrics import BinaryClassificationResult\n",
    "from src.print_util import print_rates"
   ]
  },
  {
   "cell_type": "markdown",
   "metadata": {},
   "source": [
    "### Functions"
   ]
  },
  {
   "cell_type": "code",
   "execution_count": 3,
   "metadata": {},
   "outputs": [],
   "source": [
    "# Get the results of a single experiment, summed over the reruns and the configurations\n",
    "def get_results_non_federated(all_results):\n",
    "    result = BinaryClassificationResult()\n",
    "    for configuration, configuration_results in all_results.items():      \n",
    "        # Run can be a random rerun (when testing) or a fold (when grid searching)\n",
    "        for run, run_result in enumerate(configuration_results):\n",
    "            result += BinaryClassificationResult(*run_result.values())\n",
    "\n",
    "    return result"
   ]
  },
  {
   "cell_type": "code",
   "execution_count": 4,
   "metadata": {},
   "outputs": [],
   "source": [
    "# Get the results for each federation round of a single experiment, summed over the reruns and the configurations\n",
    "def get_results_per_round(all_results):\n",
    "    results_per_round = []\n",
    "    for configuration, configuration_results in all_results.items():      \n",
    "        # Run is the current random rerun\n",
    "        for run, run_results in enumerate(configuration_results):\n",
    "            for federation_round, round_results in enumerate(run_results):\n",
    "                if federation_round >= len(results_per_round):\n",
    "                    results_per_round.append(BinaryClassificationResult())  \n",
    "                results_per_round[federation_round] += BinaryClassificationResult(*round_results.values())\n",
    "                \n",
    "    return results_per_round"
   ]
  },
  {
   "cell_type": "code",
   "execution_count": 5,
   "metadata": {},
   "outputs": [],
   "source": [
    "# Get the results of a single experiment, summed over the reruns and the configurations\n",
    "def get_thresholds_federated(all_thresholds):\n",
    "    thresholds_sum = []\n",
    "    n = 0\n",
    "    for configuration, configuration_thresholds in all_thresholds.items():\n",
    "        # Run can be a random rerun (when testing) or a fold (when grid searching)\n",
    "        for run_thresholds in configuration_thresholds:\n",
    "            n += 1\n",
    "            for federation_round, round_threshold in enumerate(run_thresholds):\n",
    "                if federation_round >= len(thresholds_sum):\n",
    "                    thresholds_sum.append(0.)  \n",
    "                thresholds_sum[federation_round] += round_threshold\n",
    "    thresholds = [s / n for s in thresholds_sum]\n",
    "                \n",
    "    return thresholds"
   ]
  },
  {
   "cell_type": "code",
   "execution_count": 6,
   "metadata": {},
   "outputs": [],
   "source": [
    "def plot_federated_tpr_tnr(results_to_plot, title=''):\n",
    "    fig, ax1 = plt.subplots(figsize=(12, 5))\n",
    "    ax1.set_xlabel('Federation round')\n",
    "\n",
    "    color = 'blue'\n",
    "    ax1.set_title(title)\n",
    "    ax1.set_ylabel('TPR', color=color)\n",
    "    ax1.plot([result.tpr() for result in results_to_plot], color=color)\n",
    "    ax1.tick_params(axis='y', labelcolor=color)\n",
    "    ax1.ticklabel_format(useOffset=False)\n",
    "\n",
    "    ax2 = ax1.twinx()  # instantiate a second axes that shares the same x-axis\n",
    "\n",
    "    color = 'red'\n",
    "    ax2.set_ylabel('TNR', color=color)\n",
    "    ax2.plot([result.tnr() for result in results_to_plot], color=color)\n",
    "    ax2.tick_params(axis='y', labelcolor=color)\n",
    "\n",
    "    plt.show()"
   ]
  },
  {
   "cell_type": "code",
   "execution_count": 7,
   "metadata": {},
   "outputs": [],
   "source": [
    "def plot_federated_acc(results_to_plot, title=''):\n",
    "    fig, ax = plt.subplots(figsize=(12, 5))\n",
    "    ax.set_xlabel('Federation round')\n",
    "\n",
    "    color = 'green'\n",
    "    ax.set_title(title)\n",
    "    ax.set_ylabel('Accuracy', color=color)\n",
    "    ax.plot([result.acc() for result in results_to_plot], color=color)\n",
    "    ax.tick_params(axis='y', labelcolor=color)\n",
    "    ax.ticklabel_format(useOffset=False)\n",
    "    plt.show()"
   ]
  },
  {
   "cell_type": "code",
   "execution_count": 8,
   "metadata": {},
   "outputs": [],
   "source": [
    "def plot_global_thresholds(thresholds, title='', multi_epoch=True, save=False):\n",
    "    fig, ax = plt.subplots(figsize=(6, 5))\n",
    "    color = 'purple'\n",
    "    ax.set_title(title)\n",
    "    ax.set_ylabel('Threshold', color=color)\n",
    "    \n",
    "    if multi_epoch:\n",
    "        ax.set_xlabel('Federation round')\n",
    "        ax.plot(thresholds, color=color)\n",
    "    else:\n",
    "        ax.set_xlabel('Epoch')\n",
    "        ax.set_xticks(np.arange(0, 120, step=10))\n",
    "        ax.plot(np.arange(0,120, step=10), thresholds, color=color)\n",
    "\n",
    "    ax.tick_params(axis='y', labelcolor=color)\n",
    "    ax.ticklabel_format(useOffset=False)\n",
    "    ax.grid()\n",
    "    ax.set_ylim(ymin=0)\n",
    "    plt.show()\n",
    "    if save:\n",
    "        fig.savefig('thresholds' + ('_multi_epoch' if multi_epoch else '_mini_batch') + '.pdf', bbox_inches='tight')"
   ]
  },
  {
   "cell_type": "code",
   "execution_count": 9,
   "metadata": {},
   "outputs": [],
   "source": [
    "def percentage_str(value, bf=False):\n",
    "    s = '{:.2f}\\\\%'.format(value * 100)\n",
    "    if bf:\n",
    "        s = '\\\\textbf{' + s + '}'\n",
    "    return s"
   ]
  },
  {
   "cell_type": "code",
   "execution_count": 10,
   "metadata": {},
   "outputs": [],
   "source": [
    "def print_rates_latex(results):\n",
    "    print('Accuracy:\\t' + percentage_str(results.acc(), bf=True))\n",
    "    print('TPR:\\t\\t' + percentage_str(results.tpr()))\n",
    "    print('TNR:\\t\\t' + percentage_str(results.tnr()))"
   ]
  },
  {
   "cell_type": "code",
   "execution_count": 11,
   "metadata": {},
   "outputs": [],
   "source": [
    "def print_rates_latex2(results):\n",
    "    print('Accuracy:\\t' + percentage_str(results.acc()))\n",
    "    print('TPR:\\t\\t' + percentage_str(results.tpr()))\n",
    "    print('TNR:\\t\\t' + percentage_str(results.tnr()))\n",
    "    print('F1-Score:\\t' + percentage_str(results.f1()))"
   ]
  },
  {
   "cell_type": "markdown",
   "metadata": {},
   "source": [
    "### Non-federated"
   ]
  },
  {
   "cell_type": "code",
   "execution_count": 12,
   "metadata": {},
   "outputs": [
    {
     "name": "stdout",
     "output_type": "stream",
     "text": [
      "Local result:\n",
      "Accuracy:\t\\textbf{97.77\\%}\n",
      "TPR:\t\t99.98\\%\n",
      "TNR:\t\t95.56\\%\n",
      "\n",
      "New result:\n",
      "Accuracy:\t\\textbf{96.37\\%}\n",
      "TPR:\t\t99.98\\%\n",
      "TNR:\t\t92.76\\%\n"
     ]
    }
   ],
   "source": [
    "path_test = 'test_results/centralized_autoencoder/0,5 5rr mean+std/'\n",
    "\n",
    "with open(path_test + 'local_results.json') as json_file:\n",
    "    test_local_results = json.load(json_file)\n",
    "    \n",
    "with open(path_test + 'new_devices_results.json') as json_file:\n",
    "    test_new_results = json.load(json_file)\n",
    "    \n",
    "local_result = get_results_non_federated(test_local_results)\n",
    "new_result = get_results_non_federated(test_new_results)\n",
    "print('Local result:')\n",
    "print_rates_latex(local_result)\n",
    "print()\n",
    "\n",
    "print('New result:')\n",
    "print_rates_latex(new_result)"
   ]
  },
  {
   "cell_type": "markdown",
   "metadata": {},
   "source": [
    "### Federated"
   ]
  },
  {
   "cell_type": "code",
   "execution_count": 17,
   "metadata": {
    "scrolled": false
   },
   "outputs": [
    {
     "ename": "FileNotFoundError",
     "evalue": "[Errno 2] No such file or directory: 'test_results/decentralized_classifier_fedavg/0,5 5rr/local_results.json'",
     "output_type": "error",
     "traceback": [
      "\u001b[0;31m---------------------------------------------------------------------------\u001b[0m",
      "\u001b[0;31mFileNotFoundError\u001b[0m                         Traceback (most recent call last)",
      "\u001b[0;32m<ipython-input-17-7c8871eacdd2>\u001b[0m in \u001b[0;36m<module>\u001b[0;34m\u001b[0m\n\u001b[1;32m      3\u001b[0m \u001b[0mpath_test\u001b[0m \u001b[0;34m=\u001b[0m \u001b[0;34m'test_results/decentralized_classifier_fedavg/0,5 5rr/'\u001b[0m\u001b[0;34m\u001b[0m\u001b[0;34m\u001b[0m\u001b[0m\n\u001b[1;32m      4\u001b[0m \u001b[0;34m\u001b[0m\u001b[0m\n\u001b[0;32m----> 5\u001b[0;31m \u001b[0;32mwith\u001b[0m \u001b[0mopen\u001b[0m\u001b[0;34m(\u001b[0m\u001b[0mpath_test\u001b[0m \u001b[0;34m+\u001b[0m \u001b[0;34m'local_results.json'\u001b[0m\u001b[0;34m)\u001b[0m \u001b[0;32mas\u001b[0m \u001b[0mjson_file\u001b[0m\u001b[0;34m:\u001b[0m\u001b[0;34m\u001b[0m\u001b[0;34m\u001b[0m\u001b[0m\n\u001b[0m\u001b[1;32m      6\u001b[0m     \u001b[0mtest_local_results\u001b[0m \u001b[0;34m=\u001b[0m \u001b[0mjson\u001b[0m\u001b[0;34m.\u001b[0m\u001b[0mload\u001b[0m\u001b[0;34m(\u001b[0m\u001b[0mjson_file\u001b[0m\u001b[0;34m)\u001b[0m\u001b[0;34m\u001b[0m\u001b[0;34m\u001b[0m\u001b[0m\n\u001b[1;32m      7\u001b[0m \u001b[0;34m\u001b[0m\u001b[0m\n",
      "\u001b[0;31mFileNotFoundError\u001b[0m: [Errno 2] No such file or directory: 'test_results/decentralized_classifier_fedavg/0,5 5rr/local_results.json'"
     ]
    }
   ],
   "source": [
    "# TODO: rename the x-axis as epoch in fedsgd and make it start at 1 in both cases\n",
    "\n",
    "path_test = 'test_results/decentralized_classifier_fedavg/0,5 5rr/'\n",
    "\n",
    "with open(path_test + 'local_results.json') as json_file:\n",
    "    test_local_results = json.load(json_file)\n",
    "    \n",
    "with open(path_test + 'new_devices_results.json') as json_file:\n",
    "    test_new_results = json.load(json_file)\n",
    "    \n",
    "local_results_per_round = get_results_per_round(test_local_results)\n",
    "plot_federated_tpr_tnr(local_results_per_round, title='Test local results')\n",
    "plot_federated_acc(local_results_per_round, title='Test local results')\n",
    "\n",
    "new_results_per_round = get_results_per_round(test_new_results)\n",
    "plot_federated_tpr_tnr(new_results_per_round, title='Test new devices results')\n",
    "plot_federated_acc(new_results_per_round, title='Test new devices results')\n",
    "\n",
    "print('Local result at last round:')\n",
    "print_rates_latex(local_results_per_round[-1])\n",
    "print()\n",
    "\n",
    "print('New result at last round:')\n",
    "print_rates_latex(new_results_per_round[-1])"
   ]
  },
  {
   "cell_type": "code",
   "execution_count": 14,
   "metadata": {},
   "outputs": [],
   "source": [
    "def plot_global_thresholds_2(thresholds_1, thresholds_2, title='', multi_epoch=True, save=False):\n",
    "    fig, ax = plt.subplots(figsize=(6, 5))\n",
    "    color_1 = 'purple'\n",
    "    color_2 = 'green'\n",
    "    ax.set_title(title)\n",
    "    ax.set_ylabel('Threshold')\n",
    "    \n",
    "    if multi_epoch:\n",
    "        ax.set_xlabel('Federation round')\n",
    "        ax.plot(thresholds_1, color=color_1, label='mean + std')\n",
    "        ax.plot(thresholds_2, color=color_2, label='0.95 quantile')\n",
    "    else:\n",
    "        ax.set_xlabel('Epoch')\n",
    "        ax.set_xticks(np.arange(0, 120, step=10))\n",
    "        ax.plot(np.arange(0,120, step=10), thresholds_1, color=color_1, label='mean + std')\n",
    "        ax.plot(np.arange(0,120, step=10), thresholds_2, color=color_2, label='0.95 quantile')\n",
    "\n",
    "    ax.tick_params(axis='y')\n",
    "    ax.ticklabel_format(useOffset=False)\n",
    "    ax.legend()\n",
    "    ax.grid()\n",
    "    ax.set_ylim(ymin=0)\n",
    "    plt.show()\n",
    "    if save:\n",
    "        fig.savefig('thresholds' + ('_multi_epoch' if multi_epoch else '_mini_batch') + '.pdf', bbox_inches='tight')"
   ]
  },
  {
   "cell_type": "code",
   "execution_count": 15,
   "metadata": {},
   "outputs": [
    {
     "data": {
      "image/png": "[encoded data removed]",
      "text/plain": [
       "<Figure size 432x360 with 1 Axes>"
      ]
     },
     "metadata": {
      "needs_background": "light"
     },
     "output_type": "display_data"
    }
   ],
   "source": [
    "path_1 = 'test_results/decentralized_autoencoder_fedavg/0,5 5rr mean+std/'\n",
    "with open(path_1 + 'thresholds.json') as json_file:\n",
    "    all_thresholds_1 = json.load(json_file)\n",
    "\n",
    "\n",
    "global_thresholds_1 = get_thresholds_federated(all_thresholds_1)\n",
    "plot_global_thresholds(global_thresholds_1, 'Thresholds', multi_epoch=True, save=True)"
   ]
  },
  {
   "cell_type": "code",
   "execution_count": 16,
   "metadata": {},
   "outputs": [
    {
     "data": {
      "image/png": "[encoded data removed]",
      "text/plain": [
       "<Figure size 432x360 with 1 Axes>"
      ]
     },
     "metadata": {
      "needs_background": "light"
     },
     "output_type": "display_data"
    }
   ],
   "source": [
    "path_1 = 'test_results/decentralized_autoencoder_fedavg/0,5 5rr mean+std/'\n",
    "path_2 = 'test_results/decentralized_autoencoder_fedavg/0,5 5rr 0,95quantile/'\n",
    "\n",
    "with open(path_1 + 'thresholds.json') as json_file:\n",
    "    all_thresholds_1 = json.load(json_file)\n",
    "\n",
    "with open(path_2 + 'thresholds.json') as json_file:\n",
    "    all_thresholds_2 = json.load(json_file)\n",
    "    \n",
    "global_thresholds_1 = get_thresholds_federated(all_thresholds_1)\n",
    "global_thresholds_2 = get_thresholds_federated(all_thresholds_2)\n",
    "plot_global_thresholds_2(global_thresholds_1, global_thresholds_2, 'Thresholds', multi_epoch=True, save=True)"
   ]
  },
  {
   "cell_type": "markdown",
   "metadata": {},
   "source": [
    "These plots are interesting but could be improved with confidence intervals."
   ]
  }
 ],
 "metadata": {
  "kernelspec": {
   "display_name": "Python 3",
   "language": "python",
   "name": "python3"
  },
  "language_info": {
   "codemirror_mode": {
    "name": "ipython",
    "version": 3
   },
   "file_extension": ".py",
   "mimetype": "text/x-python",
   "name": "python",
   "nbconvert_exporter": "python",
   "pygments_lexer": "ipython3",
   "version": "3.8.5"
  }
 },
 "nbformat": 4,
 "nbformat_minor": 4
}
