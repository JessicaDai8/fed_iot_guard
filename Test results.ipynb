{
 "cells": [
  {
   "cell_type": "markdown",
   "metadata": {},
   "source": [
    "### Imports"
   ]
  },
  {
   "cell_type": "code",
   "execution_count": 1,
   "metadata": {},
   "outputs": [],
   "source": [
    "import sys\n",
    "import json\n",
    "import matplotlib.pyplot as plt"
   ]
  },
  {
   "cell_type": "markdown",
   "metadata": {},
   "source": [
    "### Local imports"
   ]
  },
  {
   "cell_type": "code",
   "execution_count": 2,
   "metadata": {},
   "outputs": [],
   "source": [
    "sys.path.insert(0,'src/')\n",
    "from src.metrics import BinaryClassificationResult\n",
    "from src.print_util import print_rates"
   ]
  },
  {
   "cell_type": "markdown",
   "metadata": {},
   "source": [
    "### Functions"
   ]
  },
  {
   "cell_type": "code",
   "execution_count": 3,
   "metadata": {},
   "outputs": [],
   "source": [
    "# Get the results of a single experiment, summed over the reruns and the configurations\n",
    "def get_results_non_federated(all_results):\n",
    "    result = BinaryClassificationResult()\n",
    "    for configuration, configuration_results in all_results.items():      \n",
    "        # Run can be a random rerun (when testing) or a fold (when grid searching)\n",
    "        for run, run_result in enumerate(configuration_results):\n",
    "            result += BinaryClassificationResult(*run_result.values())\n",
    "\n",
    "    return result"
   ]
  },
  {
   "cell_type": "code",
   "execution_count": 4,
   "metadata": {},
   "outputs": [],
   "source": [
    "# Get the results for each federation round of a single experiment, summed over the reruns and the configurations\n",
    "def get_results_per_round(all_results):\n",
    "    results_per_round = []\n",
    "    for configuration, configuration_results in all_results.items():      \n",
    "        # Run is the current random rerun\n",
    "        for run, run_results in enumerate(configuration_results):\n",
    "            for federation_round, round_results in enumerate(run_results):\n",
    "                if federation_round >= len(results_per_round):\n",
    "                    results_per_round.append(BinaryClassificationResult())  \n",
    "                results_per_round[federation_round] += BinaryClassificationResult(*round_results.values())\n",
    "                \n",
    "    return results_per_round"
   ]
  },
  {
   "cell_type": "code",
   "execution_count": 5,
   "metadata": {},
   "outputs": [],
   "source": [
    "# Get the results of a single experiment, summed over the reruns and the configurations\n",
    "def get_thresholds_federated(all_thresholds):\n",
    "    thresholds_sum = []\n",
    "    n = 0\n",
    "    for configuration, configuration_thresholds in all_thresholds.items():\n",
    "        # Run can be a random rerun (when testing) or a fold (when grid searching)\n",
    "        for run_thresholds in configuration_thresholds:\n",
    "            n += 1\n",
    "            for federation_round, round_threshold in enumerate(run_thresholds):\n",
    "                if federation_round >= len(thresholds_sum):\n",
    "                    thresholds_sum.append(0.)  \n",
    "                thresholds_sum[federation_round] += round_threshold\n",
    "    thresholds = [s / n for s in thresholds_sum]\n",
    "                \n",
    "    return thresholds"
   ]
  },
  {
   "cell_type": "code",
   "execution_count": 6,
   "metadata": {},
   "outputs": [],
   "source": [
    "def plot_federated_tpr_tnr(results_to_plot, title=''):\n",
    "    fig, ax1 = plt.subplots(figsize=(12, 5))\n",
    "    ax1.set_xlabel('Federation round')\n",
    "\n",
    "    color = 'blue'\n",
    "    ax1.set_title(title)\n",
    "    ax1.set_ylabel('TPR', color=color)\n",
    "    ax1.plot([result.tpr() for result in results_to_plot], color=color)\n",
    "    ax1.tick_params(axis='y', labelcolor=color)\n",
    "    ax1.ticklabel_format(useOffset=False)\n",
    "\n",
    "    ax2 = ax1.twinx()  # instantiate a second axes that shares the same x-axis\n",
    "\n",
    "    color = 'red'\n",
    "    ax2.set_ylabel('TNR', color=color)\n",
    "    ax2.plot([result.tnr() for result in results_to_plot], color=color)\n",
    "    ax2.tick_params(axis='y', labelcolor=color)\n",
    "\n",
    "    plt.show()"
   ]
  },
  {
   "cell_type": "code",
   "execution_count": 7,
   "metadata": {},
   "outputs": [],
   "source": [
    "def plot_federated_acc(results_to_plot, title=''):\n",
    "    fig, ax = plt.subplots(figsize=(12, 5))\n",
    "    ax.set_xlabel('Federation round')\n",
    "\n",
    "    color = 'green'\n",
    "    ax.set_title(title)\n",
    "    ax.set_ylabel('Accuracy', color=color)\n",
    "    ax.plot([result.acc() for result in results_to_plot], color=color)\n",
    "    ax.tick_params(axis='y', labelcolor=color)\n",
    "    ax.ticklabel_format(useOffset=False)\n",
    "    plt.show()"
   ]
  },
  {
   "cell_type": "code",
   "execution_count": 8,
   "metadata": {},
   "outputs": [],
   "source": [
    "def plot_global_thresholds(thresholds, title=''):\n",
    "    fig, ax = plt.subplots(figsize=(12, 5))\n",
    "    ax.set_xlabel('Federation round')\n",
    "\n",
    "    color = 'purple'\n",
    "    ax.set_title(title)\n",
    "    ax.set_ylabel('Threshold', color=color)\n",
    "    ax.plot(thresholds, color=color)\n",
    "    ax.tick_params(axis='y', labelcolor=color)\n",
    "    ax.ticklabel_format(useOffset=False)\n",
    "    plt.show()"
   ]
  },
  {
   "cell_type": "markdown",
   "metadata": {},
   "source": [
    "### Non-federated"
   ]
  },
  {
   "cell_type": "code",
   "execution_count": 12,
   "metadata": {},
   "outputs": [
    {
     "name": "stdout",
     "output_type": "stream",
     "text": [
      "Local result:\n",
      "TPR: 99.78% - TNR: 99.92% - Accuracy: 99.91% - Precision: 98.52% - F1-Score: 99.14%\u001b[0m\n",
      "TP: 359191 - TN: 6834608 - FP: 5392 - FN:809\u001b[0m\n",
      "\n",
      "New result:\n",
      "TPR: 97.84% - TNR: 98.58% - Accuracy: 98.54% - Precision: 78.36% - F1-Score: 87.02%\u001b[0m\n",
      "TP: 352218 - TN: 6742717 - FP: 97283 - FN:7782\u001b[0m\n"
     ]
    }
   ],
   "source": [
    "path_test = 'test_results/decentralized_classifier/0,95 5rr/'\n",
    "\n",
    "with open(path_test + 'local_results.json') as json_file:\n",
    "    test_local_results = json.load(json_file)\n",
    "    \n",
    "with open(path_test + 'new_devices_results.json') as json_file:\n",
    "    test_new_results = json.load(json_file)\n",
    "    \n",
    "local_result = get_results_non_federated(test_local_results)\n",
    "new_result = get_results_non_federated(test_new_results)\n",
    "print('Local result:')\n",
    "print_rates(local_result)\n",
    "print()\n",
    "\n",
    "print('New result:')\n",
    "print_rates(new_result)"
   ]
  },
  {
   "cell_type": "markdown",
   "metadata": {},
   "source": [
    "### Federated"
   ]
  },
  {
   "cell_type": "code",
   "execution_count": null,
   "metadata": {
    "scrolled": false
   },
   "outputs": [],
   "source": [
    "path_test = 'test_results/decentralized_autoencoder_federated/run_3/'\n",
    "\n",
    "with open(path_test + 'local_results.json') as json_file:\n",
    "    test_local_results = json.load(json_file)\n",
    "    \n",
    "with open(path_test + 'new_devices_results.json') as json_file:\n",
    "    test_new_results = json.load(json_file)\n",
    "    \n",
    "local_results_per_round = get_results_per_round(test_local_results)\n",
    "plot_federated_tpr_tnr(local_results_per_round, title='Test local results')\n",
    "plot_federated_acc(local_results_per_round, title='Test local results')\n",
    "\n",
    "new_results_per_round = get_results_per_round(test_new_results)\n",
    "plot_federated_tpr_tnr(new_results_per_round, title='Test new devices results')\n",
    "plot_federated_acc(new_results_per_round, title='Test new devices results')\n",
    "\n",
    "print('Local result at last round:')\n",
    "print_rates(local_results_per_round[-1])\n",
    "print()\n",
    "\n",
    "print('New result at last round:')\n",
    "print_rates(new_results_per_round[-1])\n",
    "\n",
    "try:\n",
    "    with open(path_test + 'thresholds.json') as json_file:\n",
    "        all_thresholds = json.load(json_file)\n",
    "    \n",
    "    global_thresholds = get_thresholds_federated(all_thresholds)\n",
    "    plot_global_thresholds(global_thresholds, 'Thresholds')\n",
    "except:\n",
    "    pass"
   ]
  },
  {
   "cell_type": "markdown",
   "metadata": {},
   "source": [
    "These plots are interesting but could be improved with confidence intervals."
   ]
  }
 ],
 "metadata": {
  "kernelspec": {
   "display_name": "Python 3",
   "language": "python",
   "name": "python3"
  },
  "language_info": {
   "codemirror_mode": {
    "name": "ipython",
    "version": 3
   },
   "file_extension": ".py",
   "mimetype": "text/x-python",
   "name": "python",
   "nbconvert_exporter": "python",
   "pygments_lexer": "ipython3",
   "version": "3.7.9"
  }
 },
 "nbformat": 4,
 "nbformat_minor": 4
}
