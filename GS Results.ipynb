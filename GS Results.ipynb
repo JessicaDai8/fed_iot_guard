{
 "cells": [
  {
   "cell_type": "markdown",
   "metadata": {},
   "source": [
    "### Imports"
   ]
  },
  {
   "cell_type": "code",
   "execution_count": 1,
   "metadata": {},
   "outputs": [],
   "source": [
    "import sys\n",
    "import json\n",
    "from pprint import pprint\n",
    "import numpy as np\n",
    "from typing import Union"
   ]
  },
  {
   "cell_type": "markdown",
   "metadata": {},
   "source": [
    "### Local imports"
   ]
  },
  {
   "cell_type": "code",
   "execution_count": 2,
   "metadata": {},
   "outputs": [],
   "source": [
    "sys.path.insert(0,'src/')\n",
    "from src.metrics import BinaryClassificationResult\n",
    "from src.print_util import print_rates"
   ]
  },
  {
   "cell_type": "markdown",
   "metadata": {},
   "source": [
    "### Generic code"
   ]
  },
  {
   "cell_type": "code",
   "execution_count": 3,
   "metadata": {},
   "outputs": [],
   "source": [
    "# Get the value out of an experiment's result. If the experiment is unsupervised and the result is already\n",
    "# a float (loss function), we return it as it is. Otherwise we return the error rate.\n",
    "def get_value(result: Union[dict, float]):\n",
    "    if isinstance(result, dict):\n",
    "        result = BinaryClassificationResult(*result.values())\n",
    "        return (1 - result.acc())\n",
    "    elif isinstance(result, float):\n",
    "        return result\n",
    "    else:\n",
    "        raise ValueError('Wrong type for result')"
   ]
  },
  {
   "cell_type": "code",
   "execution_count": 4,
   "metadata": {},
   "outputs": [],
   "source": [
    "def get_configurations_best_hparams(all_results, verbose=False):\n",
    "    config_to_hparams = {}\n",
    "    for clients_devices, config_results in gs_local_results.items():\n",
    "        config_best_result = np.Infinity\n",
    "        config_best_hparams = {}\n",
    "        for hparams, config_exp_result in config_results.items():\n",
    "            result_float = get_value(config_exp_result)\n",
    "            if result_float < config_best_result:\n",
    "                config_best_hparams = hparams\n",
    "                config_best_result = result_float\n",
    "        config_to_hparams.update({clients_devices: config_best_hparams})\n",
    "        if verbose:\n",
    "            print(\"Best result for {} is {:.5f} with hparams: \".format(clients_devices, config_best_result))\n",
    "            pprint(config_best_hparams)\n",
    "            print()\n",
    "            \n",
    "    return config_to_hparams"
   ]
  },
  {
   "cell_type": "markdown",
   "metadata": {},
   "source": [
    "### Autoencoder"
   ]
  },
  {
   "cell_type": "code",
   "execution_count": 5,
   "metadata": {},
   "outputs": [
    {
     "ename": "FileNotFoundError",
     "evalue": "[Errno 2] No such file or directory: 'grid_search_results/decentralized_autoencoder/run_3/local_results.json'",
     "output_type": "error",
     "traceback": [
      "\u001b[1;31m---------------------------------------------------------------------------\u001b[0m",
      "\u001b[1;31mFileNotFoundError\u001b[0m                         Traceback (most recent call last)",
      "\u001b[1;32m<ipython-input-5-8859c3a0e580>\u001b[0m in \u001b[0;36m<module>\u001b[1;34m\u001b[0m\n\u001b[0;32m      1\u001b[0m \u001b[0mpath_gs\u001b[0m \u001b[1;33m=\u001b[0m \u001b[1;34m'grid_search_results/decentralized_autoencoder/run_3/'\u001b[0m\u001b[1;33m\u001b[0m\u001b[1;33m\u001b[0m\u001b[0m\n\u001b[0;32m      2\u001b[0m \u001b[1;33m\u001b[0m\u001b[0m\n\u001b[1;32m----> 3\u001b[1;33m \u001b[1;32mwith\u001b[0m \u001b[0mopen\u001b[0m\u001b[1;33m(\u001b[0m\u001b[0mpath_gs\u001b[0m \u001b[1;33m+\u001b[0m \u001b[1;34m'local_results.json'\u001b[0m\u001b[1;33m)\u001b[0m \u001b[1;32mas\u001b[0m \u001b[0mjson_file\u001b[0m\u001b[1;33m:\u001b[0m\u001b[1;33m\u001b[0m\u001b[1;33m\u001b[0m\u001b[0m\n\u001b[0m\u001b[0;32m      4\u001b[0m     \u001b[0mgs_local_results\u001b[0m \u001b[1;33m=\u001b[0m \u001b[0mjson\u001b[0m\u001b[1;33m.\u001b[0m\u001b[0mload\u001b[0m\u001b[1;33m(\u001b[0m\u001b[0mjson_file\u001b[0m\u001b[1;33m)\u001b[0m\u001b[1;33m\u001b[0m\u001b[1;33m\u001b[0m\u001b[0m\n\u001b[0;32m      5\u001b[0m \u001b[1;33m\u001b[0m\u001b[0m\n",
      "\u001b[1;31mFileNotFoundError\u001b[0m: [Errno 2] No such file or directory: 'grid_search_results/decentralized_autoencoder/run_3/local_results.json'"
     ]
    }
   ],
   "source": [
    "path_gs = 'grid_search_results/decentralized_autoencoder/run_3/'\n",
    "\n",
    "with open(path_gs + 'local_results.json') as json_file:\n",
    "    gs_local_results = json.load(json_file)\n",
    "    \n",
    "clients_devices_to_hparams = get_configurations_best_hparams(gs_local_results, verbose=True)\n",
    "pprint(clients_devices_to_hparams)"
   ]
  },
  {
   "cell_type": "markdown",
   "metadata": {},
   "source": [
    "### Classifier"
   ]
  },
  {
   "cell_type": "code",
   "execution_count": 7,
   "metadata": {},
   "outputs": [
    {
     "name": "stdout",
     "output_type": "stream",
     "text": [
      "Best result for [[1, 2, 3, 4, 5, 6, 7, 8]] is 0.00070 with hparams: \n",
      "\"{'hidden_layers': [50], 'optimizer_params': {'lr': 1.0, 'weight_decay': 0.0}}\"\n",
      "\n",
      "Best result for [[0, 2, 3, 4, 5, 6, 7, 8]] is 0.00069 with hparams: \n",
      "(\"{'hidden_layers': [50, 10, 5], 'optimizer_params': {'lr': 1.0, \"\n",
      " \"'weight_decay': 0.0}}\")\n",
      "\n",
      "Best result for [[0, 1, 3, 4, 5, 6, 7, 8]] is 0.00060 with hparams: \n",
      "(\"{'hidden_layers': [50, 10], 'optimizer_params': {'lr': 1.0, 'weight_decay': \"\n",
      " '1e-05}}')\n",
      "\n",
      "Best result for [[0, 1, 2, 4, 5, 6, 7, 8]] is 0.00062 with hparams: \n",
      "(\"{'hidden_layers': [50, 10, 5], 'optimizer_params': {'lr': 1.0, \"\n",
      " \"'weight_decay': 0.0}}\")\n",
      "\n",
      "Best result for [[0, 1, 2, 3, 5, 6, 7, 8]] is 0.00070 with hparams: \n",
      "(\"{'hidden_layers': [50, 10, 5], 'optimizer_params': {'lr': 1.0, \"\n",
      " \"'weight_decay': 1e-05}}\")\n",
      "\n",
      "Best result for [[0, 1, 2, 3, 4, 6, 7, 8]] is 0.00060 with hparams: \n",
      "(\"{'hidden_layers': [50, 10], 'optimizer_params': {'lr': 1.0, 'weight_decay': \"\n",
      " '1e-05}}')\n",
      "\n",
      "Best result for [[0, 1, 2, 3, 4, 5, 7, 8]] is 0.00058 with hparams: \n",
      "(\"{'hidden_layers': [50, 10, 5], 'optimizer_params': {'lr': 1.0, \"\n",
      " \"'weight_decay': 0.0}}\")\n",
      "\n",
      "Best result for [[0, 1, 2, 3, 4, 5, 6, 8]] is 0.00067 with hparams: \n",
      "(\"{'hidden_layers': [50, 10], 'optimizer_params': {'lr': 1.0, 'weight_decay': \"\n",
      " '1e-05}}')\n",
      "\n",
      "Best result for [[0, 1, 2, 3, 4, 5, 6, 7]] is 0.00060 with hparams: \n",
      "(\"{'hidden_layers': [50, 10, 5], 'optimizer_params': {'lr': 1.0, \"\n",
      " \"'weight_decay': 0.0}}\")\n",
      "\n",
      "{'[[0, 1, 2, 3, 4, 5, 6, 7]]': \"{'hidden_layers': [50, 10, 5], \"\n",
      "                               \"'optimizer_params': {'lr': 1.0, \"\n",
      "                               \"'weight_decay': 0.0}}\",\n",
      " '[[0, 1, 2, 3, 4, 5, 6, 8]]': \"{'hidden_layers': [50, 10], \"\n",
      "                               \"'optimizer_params': {'lr': 1.0, \"\n",
      "                               \"'weight_decay': 1e-05}}\",\n",
      " '[[0, 1, 2, 3, 4, 5, 7, 8]]': \"{'hidden_layers': [50, 10, 5], \"\n",
      "                               \"'optimizer_params': {'lr': 1.0, \"\n",
      "                               \"'weight_decay': 0.0}}\",\n",
      " '[[0, 1, 2, 3, 4, 6, 7, 8]]': \"{'hidden_layers': [50, 10], \"\n",
      "                               \"'optimizer_params': {'lr': 1.0, \"\n",
      "                               \"'weight_decay': 1e-05}}\",\n",
      " '[[0, 1, 2, 3, 5, 6, 7, 8]]': \"{'hidden_layers': [50, 10, 5], \"\n",
      "                               \"'optimizer_params': {'lr': 1.0, \"\n",
      "                               \"'weight_decay': 1e-05}}\",\n",
      " '[[0, 1, 2, 4, 5, 6, 7, 8]]': \"{'hidden_layers': [50, 10, 5], \"\n",
      "                               \"'optimizer_params': {'lr': 1.0, \"\n",
      "                               \"'weight_decay': 0.0}}\",\n",
      " '[[0, 1, 3, 4, 5, 6, 7, 8]]': \"{'hidden_layers': [50, 10], \"\n",
      "                               \"'optimizer_params': {'lr': 1.0, \"\n",
      "                               \"'weight_decay': 1e-05}}\",\n",
      " '[[0, 2, 3, 4, 5, 6, 7, 8]]': \"{'hidden_layers': [50, 10, 5], \"\n",
      "                               \"'optimizer_params': {'lr': 1.0, \"\n",
      "                               \"'weight_decay': 0.0}}\",\n",
      " '[[1, 2, 3, 4, 5, 6, 7, 8]]': \"{'hidden_layers': [50], 'optimizer_params': \"\n",
      "                               \"{'lr': 1.0, 'weight_decay': 0.0}}\"}\n"
     ]
    }
   ],
   "source": [
    "path_gs = 'grid_search_results/centralized_classifier/run_1/'\n",
    "\n",
    "with open(path_gs + 'local_results.json') as json_file:\n",
    "    gs_local_results = json.load(json_file)\n",
    "    \n",
    "clients_devices_to_hparams = get_configurations_best_hparams(gs_local_results, True)\n",
    "pprint(clients_devices_to_hparams)"
   ]
  },
  {
   "cell_type": "markdown",
   "metadata": {},
   "source": [
    "End."
   ]
  }
 ],
 "metadata": {
  "kernelspec": {
   "display_name": "Python 3",
   "language": "python",
   "name": "python3"
  },
  "language_info": {
   "codemirror_mode": {
    "name": "ipython",
    "version": 3
   },
   "file_extension": ".py",
   "mimetype": "text/x-python",
   "name": "python",
   "nbconvert_exporter": "python",
   "pygments_lexer": "ipython3",
   "version": "3.7.9"
  }
 },
 "nbformat": 4,
 "nbformat_minor": 4
}
