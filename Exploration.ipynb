{
 "cells": [
  {
   "cell_type": "markdown",
   "metadata": {},
   "source": [
    "#### Imports"
   ]
  },
  {
   "cell_type": "code",
   "execution_count": 1,
   "metadata": {},
   "outputs": [],
   "source": [
    "import sys\n",
    "import pandas as pd\n",
    "import numpy as np\n",
    "import matplotlib.pyplot as plt\n",
    "from statsmodels.tsa import stattools\n",
    "from statsmodels.graphics import correlation\n",
    "from context_printer import ContextPrinter as Ctp\n",
    "from sklearn.decomposition import PCA"
   ]
  },
  {
   "cell_type": "markdown",
   "metadata": {},
   "source": [
    "#### Local Imports"
   ]
  },
  {
   "cell_type": "code",
   "execution_count": 3,
   "metadata": {},
   "outputs": [],
   "source": [
    "sys.path.insert(0,'src/')\n",
    "from data import read_all_data\n",
    "from supervised_data import get_dataset"
   ]
  },
  {
   "cell_type": "markdown",
   "metadata": {},
   "source": [
    "### Counting the number of samples from each class for each device"
   ]
  },
  {
   "cell_type": "code",
   "execution_count": 4,
   "metadata": {},
   "outputs": [
    {
     "name": "stdout",
     "output_type": "stream",
     "text": [
      "\u001b[93m\u001b[1mReading data\u001b[0m\n",
      "\u001b[93m█ \u001b[0m[1/9] Data from Danmini_Doorbell\u001b[0m\n",
      "\u001b[93m█ \u001b[0m[2/9] Data from Ecobee_Thermostat\u001b[0m\n",
      "\u001b[93m█ \u001b[0m[3/9] Data from Ennio_Doorbell\u001b[0m\n",
      "\u001b[93m█ \u001b[0m[4/9] Data from Philips_B120N10_Baby_Monitor\u001b[0m\n",
      "\u001b[93m█ \u001b[0m[5/9] Data from Provision_PT_737E_Security_Camera\u001b[0m\n",
      "\u001b[93m█ \u001b[0m[6/9] Data from Provision_PT_838_Security_Camera\u001b[0m\n",
      "\u001b[93m█ \u001b[0m[7/9] Data from Samsung_SNH_1011_N_Webcam\u001b[0m\n",
      "\u001b[93m█ \u001b[0m[8/9] Data from SimpleHome_XCS7_1002_WHT_Security_Camera\u001b[0m\n",
      "\u001b[93m█ \u001b[0m[9/9] Data from SimpleHome_XCS7_1003_WHT_Security_Camera\u001b[0m\n"
     ]
    }
   ],
   "source": [
    "data = read_all_data()"
   ]
  },
  {
   "cell_type": "code",
   "execution_count": 7,
   "metadata": {},
   "outputs": [],
   "source": [
    "def count_class_samples(device_id: int):\n",
    "    binary_dataset = get_dataset(data[device_id:device_id+1], multiclass=False)\n",
    "    binary_labels = binary_dataset[:][1].numpy()\n",
    "    features = binary_dataset[:][0].numpy()\n",
    "\n",
    "    unique, counts = np.unique(binary_labels, return_counts=True)\n",
    "    percentage_benign = counts[0] * 100 / (counts[0] + counts[1])\n",
    "    percentage_attack = counts[1] * 100 / (counts[0] + counts[1])\n",
    "    print(\"Number of benign instances: {} ({:.2f}%)\".format(counts[0], percentage_benign))\n",
    "    print(\"Number of attack instances: {} ({:.2f}%)\".format(counts[1], percentage_attack))"
   ]
  },
  {
   "cell_type": "code",
   "execution_count": 11,
   "metadata": {},
   "outputs": [
    {
     "name": "stdout",
     "output_type": "stream",
     "text": [
      "Device 0\n",
      "Number of benign instances: 49548 (4.87%)\n",
      "Number of attack instances: 968750 (95.13%)\n",
      "\n",
      "Device 1\n",
      "Number of benign instances: 13113 (1.57%)\n",
      "Number of attack instances: 822763 (98.43%)\n",
      "\n",
      "Device 2\n",
      "Number of benign instances: 39100 (11.00%)\n",
      "Number of attack instances: 316400 (89.00%)\n",
      "\n",
      "Device 3\n",
      "Number of benign instances: 175240 (15.95%)\n",
      "Number of attack instances: 923437 (84.05%)\n",
      "\n",
      "Device 4\n",
      "Number of benign instances: 62154 (7.50%)\n",
      "Number of attack instances: 766106 (92.50%)\n",
      "\n",
      "Device 5\n",
      "Number of benign instances: 98514 (11.77%)\n",
      "Number of attack instances: 738377 (88.23%)\n",
      "\n",
      "Device 6\n",
      "Number of benign instances: 52150 (13.90%)\n",
      "Number of attack instances: 323072 (86.10%)\n",
      "\n",
      "Device 7\n",
      "Number of benign instances: 46585 (5.40%)\n",
      "Number of attack instances: 816471 (94.60%)\n",
      "\n",
      "Device 8\n",
      "Number of benign instances: 19528 (2.30%)\n",
      "Number of attack instances: 831298 (97.70%)\n",
      "\n"
     ]
    }
   ],
   "source": [
    "for device_id in range(9):\n",
    "    print('Device {}'.format(device_id))\n",
    "    count_class_samples(device_id)\n",
    "    print()"
   ]
  },
  {
   "cell_type": "code",
   "execution_count": null,
   "metadata": {},
   "outputs": [],
   "source": []
  }
 ],
 "metadata": {
  "kernelspec": {
   "display_name": "Python 3",
   "language": "python",
   "name": "python3"
  },
  "language_info": {
   "codemirror_mode": {
    "name": "ipython",
    "version": 3
   },
   "file_extension": ".py",
   "mimetype": "text/x-python",
   "name": "python",
   "nbconvert_exporter": "python",
   "pygments_lexer": "ipython3",
   "version": "3.8.5"
  }
 },
 "nbformat": 4,
 "nbformat_minor": 4
}
